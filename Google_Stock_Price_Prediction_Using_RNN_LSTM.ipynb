{
 "cells": [
  {
   "cell_type": "code",
   "execution_count": 99,
   "id": "b9193501",
   "metadata": {},
   "outputs": [],
   "source": [
    "# importing Libraries\n",
    "import numpy as np\n",
    "import matplotlib.pyplot as plt\n",
    "import pandas as pd\n",
    "from keras.models import Sequential\n",
    "from keras.layers import Dense\n",
    "from keras.layers import LSTM\n",
    "from keras.layers import Dropout"
   ]
  },
  {
   "cell_type": "code",
   "execution_count": 100,
   "id": "e475bb2e",
   "metadata": {},
   "outputs": [],
   "source": [
    "# importing dataset\n",
    "data_train = pd.read_csv('Google-Train.csv')"
   ]
  },
  {
   "cell_type": "code",
   "execution_count": 101,
   "id": "6ea4706e",
   "metadata": {},
   "outputs": [
    {
     "data": {
      "text/html": [
       "<div>\n",
       "<style scoped>\n",
       "    .dataframe tbody tr th:only-of-type {\n",
       "        vertical-align: middle;\n",
       "    }\n",
       "\n",
       "    .dataframe tbody tr th {\n",
       "        vertical-align: top;\n",
       "    }\n",
       "\n",
       "    .dataframe thead th {\n",
       "        text-align: right;\n",
       "    }\n",
       "</style>\n",
       "<table border=\"1\" class=\"dataframe\">\n",
       "  <thead>\n",
       "    <tr style=\"text-align: right;\">\n",
       "      <th></th>\n",
       "      <th>Date</th>\n",
       "      <th>Open</th>\n",
       "      <th>High</th>\n",
       "      <th>Low</th>\n",
       "      <th>Close</th>\n",
       "      <th>Adj Close</th>\n",
       "      <th>Volume</th>\n",
       "    </tr>\n",
       "  </thead>\n",
       "  <tbody>\n",
       "    <tr>\n",
       "      <th>0</th>\n",
       "      <td>8/19/2004</td>\n",
       "      <td>50.050049</td>\n",
       "      <td>52.082081</td>\n",
       "      <td>48.028027</td>\n",
       "      <td>50.220219</td>\n",
       "      <td>50.220219</td>\n",
       "      <td>44659096</td>\n",
       "    </tr>\n",
       "    <tr>\n",
       "      <th>1</th>\n",
       "      <td>8/20/2004</td>\n",
       "      <td>50.555557</td>\n",
       "      <td>54.594597</td>\n",
       "      <td>50.300301</td>\n",
       "      <td>54.209209</td>\n",
       "      <td>54.209209</td>\n",
       "      <td>22834343</td>\n",
       "    </tr>\n",
       "    <tr>\n",
       "      <th>2</th>\n",
       "      <td>8/23/2004</td>\n",
       "      <td>55.430431</td>\n",
       "      <td>56.796799</td>\n",
       "      <td>54.579578</td>\n",
       "      <td>54.754753</td>\n",
       "      <td>54.754753</td>\n",
       "      <td>18256126</td>\n",
       "    </tr>\n",
       "    <tr>\n",
       "      <th>3</th>\n",
       "      <td>8/24/2004</td>\n",
       "      <td>55.675674</td>\n",
       "      <td>55.855858</td>\n",
       "      <td>51.836838</td>\n",
       "      <td>52.487488</td>\n",
       "      <td>52.487488</td>\n",
       "      <td>15247337</td>\n",
       "    </tr>\n",
       "    <tr>\n",
       "      <th>4</th>\n",
       "      <td>8/25/2004</td>\n",
       "      <td>52.532532</td>\n",
       "      <td>54.054054</td>\n",
       "      <td>51.991993</td>\n",
       "      <td>53.053055</td>\n",
       "      <td>53.053055</td>\n",
       "      <td>9188602</td>\n",
       "    </tr>\n",
       "  </tbody>\n",
       "</table>\n",
       "</div>"
      ],
      "text/plain": [
       "        Date       Open       High        Low      Close  Adj Close    Volume\n",
       "0  8/19/2004  50.050049  52.082081  48.028027  50.220219  50.220219  44659096\n",
       "1  8/20/2004  50.555557  54.594597  50.300301  54.209209  54.209209  22834343\n",
       "2  8/23/2004  55.430431  56.796799  54.579578  54.754753  54.754753  18256126\n",
       "3  8/24/2004  55.675674  55.855858  51.836838  52.487488  52.487488  15247337\n",
       "4  8/25/2004  52.532532  54.054054  51.991993  53.053055  53.053055   9188602"
      ]
     },
     "execution_count": 101,
     "metadata": {},
     "output_type": "execute_result"
    }
   ],
   "source": [
    "data_train.head()"
   ]
  },
  {
   "cell_type": "code",
   "execution_count": 102,
   "id": "001179a7",
   "metadata": {},
   "outputs": [
    {
     "data": {
      "text/html": [
       "<div>\n",
       "<style scoped>\n",
       "    .dataframe tbody tr th:only-of-type {\n",
       "        vertical-align: middle;\n",
       "    }\n",
       "\n",
       "    .dataframe tbody tr th {\n",
       "        vertical-align: top;\n",
       "    }\n",
       "\n",
       "    .dataframe thead th {\n",
       "        text-align: right;\n",
       "    }\n",
       "</style>\n",
       "<table border=\"1\" class=\"dataframe\">\n",
       "  <thead>\n",
       "    <tr style=\"text-align: right;\">\n",
       "      <th></th>\n",
       "      <th>Open</th>\n",
       "      <th>High</th>\n",
       "      <th>Low</th>\n",
       "      <th>Close</th>\n",
       "      <th>Adj Close</th>\n",
       "      <th>Volume</th>\n",
       "    </tr>\n",
       "  </thead>\n",
       "  <tbody>\n",
       "    <tr>\n",
       "      <th>count</th>\n",
       "      <td>4413.000000</td>\n",
       "      <td>4413.000000</td>\n",
       "      <td>4413.000000</td>\n",
       "      <td>4413.000000</td>\n",
       "      <td>4413.000000</td>\n",
       "      <td>4.413000e+03</td>\n",
       "    </tr>\n",
       "    <tr>\n",
       "      <th>mean</th>\n",
       "      <td>685.051506</td>\n",
       "      <td>691.582124</td>\n",
       "      <td>678.172342</td>\n",
       "      <td>685.057189</td>\n",
       "      <td>685.057189</td>\n",
       "      <td>6.464731e+06</td>\n",
       "    </tr>\n",
       "    <tr>\n",
       "      <th>std</th>\n",
       "      <td>634.001195</td>\n",
       "      <td>639.981939</td>\n",
       "      <td>627.719598</td>\n",
       "      <td>634.049735</td>\n",
       "      <td>634.049735</td>\n",
       "      <td>7.699766e+06</td>\n",
       "    </tr>\n",
       "    <tr>\n",
       "      <th>min</th>\n",
       "      <td>49.644646</td>\n",
       "      <td>50.920921</td>\n",
       "      <td>48.028027</td>\n",
       "      <td>50.055054</td>\n",
       "      <td>50.055054</td>\n",
       "      <td>4.656000e+05</td>\n",
       "    </tr>\n",
       "    <tr>\n",
       "      <th>25%</th>\n",
       "      <td>248.378372</td>\n",
       "      <td>250.375381</td>\n",
       "      <td>244.984985</td>\n",
       "      <td>247.962967</td>\n",
       "      <td>247.962967</td>\n",
       "      <td>1.698700e+06</td>\n",
       "    </tr>\n",
       "    <tr>\n",
       "      <th>50%</th>\n",
       "      <td>432.582581</td>\n",
       "      <td>435.730743</td>\n",
       "      <td>428.698700</td>\n",
       "      <td>433.143158</td>\n",
       "      <td>433.143158</td>\n",
       "      <td>3.796200e+06</td>\n",
       "    </tr>\n",
       "    <tr>\n",
       "      <th>75%</th>\n",
       "      <td>997.890015</td>\n",
       "      <td>1005.789978</td>\n",
       "      <td>987.940002</td>\n",
       "      <td>996.119995</td>\n",
       "      <td>996.119995</td>\n",
       "      <td>8.048344e+06</td>\n",
       "    </tr>\n",
       "    <tr>\n",
       "      <th>max</th>\n",
       "      <td>3025.000000</td>\n",
       "      <td>3030.929932</td>\n",
       "      <td>2977.979980</td>\n",
       "      <td>2996.770020</td>\n",
       "      <td>2996.770020</td>\n",
       "      <td>8.215117e+07</td>\n",
       "    </tr>\n",
       "  </tbody>\n",
       "</table>\n",
       "</div>"
      ],
      "text/plain": [
       "              Open         High          Low        Close    Adj Close  \\\n",
       "count  4413.000000  4413.000000  4413.000000  4413.000000  4413.000000   \n",
       "mean    685.051506   691.582124   678.172342   685.057189   685.057189   \n",
       "std     634.001195   639.981939   627.719598   634.049735   634.049735   \n",
       "min      49.644646    50.920921    48.028027    50.055054    50.055054   \n",
       "25%     248.378372   250.375381   244.984985   247.962967   247.962967   \n",
       "50%     432.582581   435.730743   428.698700   433.143158   433.143158   \n",
       "75%     997.890015  1005.789978   987.940002   996.119995   996.119995   \n",
       "max    3025.000000  3030.929932  2977.979980  2996.770020  2996.770020   \n",
       "\n",
       "             Volume  \n",
       "count  4.413000e+03  \n",
       "mean   6.464731e+06  \n",
       "std    7.699766e+06  \n",
       "min    4.656000e+05  \n",
       "25%    1.698700e+06  \n",
       "50%    3.796200e+06  \n",
       "75%    8.048344e+06  \n",
       "max    8.215117e+07  "
      ]
     },
     "execution_count": 102,
     "metadata": {},
     "output_type": "execute_result"
    }
   ],
   "source": [
    "data_train.describe()"
   ]
  },
  {
   "cell_type": "code",
   "execution_count": 103,
   "id": "f27f7f81",
   "metadata": {},
   "outputs": [],
   "source": [
    "train_set = data_train.iloc[: , 1:2].values"
   ]
  },
  {
   "cell_type": "code",
   "execution_count": 104,
   "id": "d4c52436",
   "metadata": {},
   "outputs": [
    {
     "name": "stdout",
     "output_type": "stream",
     "text": [
      "[[  50.050049]\n",
      " [  50.555557]\n",
      " [  55.430431]\n",
      " ...\n",
      " [2499.070068]\n",
      " [2671.040039]\n",
      " [2661.      ]]\n"
     ]
    }
   ],
   "source": [
    "print(train_set)"
   ]
  },
  {
   "cell_type": "code",
   "execution_count": 105,
   "id": "4301d8e4",
   "metadata": {},
   "outputs": [
    {
     "data": {
      "image/png": "[encoded data removed]",
      "text/plain": [
       "<Figure size 640x480 with 1 Axes>"
      ]
     },
     "metadata": {},
     "output_type": "display_data"
    }
   ],
   "source": [
    "# Visualizing the training set\n",
    "plt.plot(train_set)\n",
    "plt.title('Train Set Visualization')\n",
    "plt.xlabel('Index')\n",
    "plt.ylabel('Value')\n",
    "plt.show()"
   ]
  },
  {
   "cell_type": "code",
   "execution_count": 106,
   "id": "a626d513",
   "metadata": {},
   "outputs": [],
   "source": [
    "# feature scaling by normalizing \n",
    "from sklearn.preprocessing import MinMaxScaler\n",
    "sc = MinMaxScaler(feature_range= (0,1))\n",
    "train_set_scaled = sc.fit_transform(train_set)"
   ]
  },
  {
   "cell_type": "code",
   "execution_count": 107,
   "id": "e61b46e3",
   "metadata": {},
   "outputs": [
    {
     "name": "stdout",
     "output_type": "stream",
     "text": [
      "[[1.36253641e-04]\n",
      " [3.06152003e-04]\n",
      " [1.94456941e-03]\n",
      " ...\n",
      " [8.23237943e-01]\n",
      " [8.81036072e-01]\n",
      " [8.77661672e-01]]\n"
     ]
    }
   ],
   "source": [
    "print(train_set_scaled)"
   ]
  },
  {
   "cell_type": "code",
   "execution_count": 108,
   "id": "6a52acaf",
   "metadata": {},
   "outputs": [],
   "source": [
    "# creating a data structure with 60 timesteps and 1 output\n",
    "X_train = []\n",
    "y_train = []\n",
    "for i in range(40,4413):\n",
    "    X_train.append(train_set_scaled[i-40:i,0])\n",
    "    y_train.append(train_set_scaled[i,0])\n",
    "\n",
    "X_train, y_train = np.array(X_train), np.array(y_train)"
   ]
  },
  {
   "cell_type": "code",
   "execution_count": 109,
   "id": "af2a5691",
   "metadata": {},
   "outputs": [
    {
     "name": "stdout",
     "output_type": "stream",
     "text": [
      "[[1.36253641e-04 3.06152003e-04 1.94456941e-03 ... 5.92959055e-03\n",
      "  7.42334490e-03 7.03476678e-03]\n",
      " [3.06152003e-04 1.94456941e-03 2.02699418e-03 ... 7.42334490e-03\n",
      "  7.03476678e-03 7.69417037e-03]\n",
      " [1.94456941e-03 2.02699418e-03 9.70602048e-04 ... 7.03476678e-03\n",
      "  7.69417037e-03 7.40315706e-03]\n",
      " ...\n",
      " [9.79740225e-01 9.69042317e-01 9.69375047e-01 ... 8.80464728e-01\n",
      "  8.56070977e-01 8.68240939e-01]\n",
      " [9.69042317e-01 9.69375047e-01 9.65046192e-01 ... 8.56070977e-01\n",
      "  8.68240939e-01 8.23237943e-01]\n",
      " [9.69375047e-01 9.65046192e-01 9.58357948e-01 ... 8.68240939e-01\n",
      "  8.23237943e-01 8.81036072e-01]]\n"
     ]
    }
   ],
   "source": [
    "print(X_train)"
   ]
  },
  {
   "cell_type": "code",
   "execution_count": 110,
   "id": "55b328bc",
   "metadata": {},
   "outputs": [],
   "source": [
    "# reshaping\n",
    "X_train = np.reshape(X_train, (X_train.shape[0],X_train.shape[1], 1))"
   ]
  },
  {
   "cell_type": "markdown",
   "id": "4d745663",
   "metadata": {},
   "source": [
    "# Initializing the RNN"
   ]
  },
  {
   "cell_type": "code",
   "execution_count": 111,
   "id": "28832db7",
   "metadata": {},
   "outputs": [],
   "source": [
    "rnn =  Sequential()\n",
    "rnn.add(LSTM(units= 128, return_sequences= True, input_shape = (X_train.shape[1],1)))\n",
    "rnn.add(Dropout(0.2))\n",
    "rnn.add(LSTM(units= 128, return_sequences= True))\n",
    "rnn.add(Dropout(0.2))\n",
    "rnn.add(LSTM(units= 128, return_sequences= True))\n",
    "rnn.add(Dropout(0.2))\n",
    "rnn.add(LSTM(units= 128, return_sequences= True))\n",
    "rnn.add(Dropout(0.2))\n",
    "rnn.add(LSTM(units= 128))\n",
    "rnn.add(Dropout(0.2))\n",
    "rnn.add(Dense(units=1))"
   ]
  },
  {
   "cell_type": "code",
   "execution_count": 112,
   "id": "bcd7d844",
   "metadata": {},
   "outputs": [],
   "source": [
    "# compling the RNN\n",
    "rnn.compile(optimizer='adam', loss='mean_squared_error')"
   ]
  },
  {
   "cell_type": "code",
   "execution_count": 113,
   "id": "fc06cba5",
   "metadata": {},
   "outputs": [
    {
     "name": "stdout",
     "output_type": "stream",
     "text": [
      "Epoch 1/100\n",
      "137/137 [==============================] - 23s 87ms/step - loss: 0.0065\n",
      "Epoch 2/100\n",
      "137/137 [==============================] - 12s 86ms/step - loss: 8.2037e-04\n",
      "Epoch 3/100\n",
      "137/137 [==============================] - 12s 86ms/step - loss: 0.0010\n",
      "Epoch 4/100\n",
      "137/137 [==============================] - 12s 86ms/step - loss: 7.8483e-04\n",
      "Epoch 5/100\n",
      "137/137 [==============================] - 12s 86ms/step - loss: 7.6341e-04\n",
      "Epoch 6/100\n",
      "137/137 [==============================] - 12s 86ms/step - loss: 8.4310e-04\n",
      "Epoch 7/100\n",
      "137/137 [==============================] - 12s 86ms/step - loss: 7.0950e-04\n",
      "Epoch 8/100\n",
      "137/137 [==============================] - 12s 86ms/step - loss: 9.5186e-04\n",
      "Epoch 9/100\n",
      "137/137 [==============================] - 12s 86ms/step - loss: 7.8044e-04\n",
      "Epoch 10/100\n",
      "137/137 [==============================] - 12s 86ms/step - loss: 5.2479e-04\n",
      "Epoch 11/100\n",
      "137/137 [==============================] - 12s 86ms/step - loss: 7.4672e-04\n",
      "Epoch 12/100\n",
      "137/137 [==============================] - 12s 86ms/step - loss: 6.7729e-04\n",
      "Epoch 13/100\n",
      "137/137 [==============================] - 12s 86ms/step - loss: 5.0712e-04\n",
      "Epoch 14/100\n",
      "137/137 [==============================] - 12s 86ms/step - loss: 5.5588e-04\n",
      "Epoch 15/100\n",
      "137/137 [==============================] - 12s 86ms/step - loss: 5.6222e-04\n",
      "Epoch 16/100\n",
      "137/137 [==============================] - 12s 86ms/step - loss: 5.0364e-04\n",
      "Epoch 17/100\n",
      "137/137 [==============================] - 12s 86ms/step - loss: 5.4549e-04\n",
      "Epoch 18/100\n",
      "137/137 [==============================] - 12s 86ms/step - loss: 4.7728e-04\n",
      "Epoch 19/100\n",
      "137/137 [==============================] - 12s 86ms/step - loss: 5.2885e-04\n",
      "Epoch 20/100\n",
      "137/137 [==============================] - 12s 86ms/step - loss: 5.1896e-04\n",
      "Epoch 21/100\n",
      "137/137 [==============================] - 12s 86ms/step - loss: 4.4000e-04\n",
      "Epoch 22/100\n",
      "137/137 [==============================] - 12s 86ms/step - loss: 4.8028e-04\n",
      "Epoch 23/100\n",
      "137/137 [==============================] - 12s 86ms/step - loss: 5.1582e-04\n",
      "Epoch 24/100\n",
      "137/137 [==============================] - 12s 86ms/step - loss: 5.0426e-04\n",
      "Epoch 25/100\n",
      "137/137 [==============================] - 12s 86ms/step - loss: 4.8316e-04\n",
      "Epoch 26/100\n",
      "137/137 [==============================] - 12s 85ms/step - loss: 4.3166e-04\n",
      "Epoch 27/100\n",
      "137/137 [==============================] - 12s 86ms/step - loss: 4.1014e-04\n",
      "Epoch 28/100\n",
      "137/137 [==============================] - 12s 87ms/step - loss: 4.8806e-04\n",
      "Epoch 29/100\n",
      "137/137 [==============================] - 12s 86ms/step - loss: 3.8453e-04\n",
      "Epoch 30/100\n",
      "137/137 [==============================] - 12s 87ms/step - loss: 3.9691e-04\n",
      "Epoch 31/100\n",
      "137/137 [==============================] - 12s 85ms/step - loss: 3.5603e-04\n",
      "Epoch 32/100\n",
      "137/137 [==============================] - 12s 85ms/step - loss: 4.5911e-04\n",
      "Epoch 33/100\n",
      "137/137 [==============================] - 12s 85ms/step - loss: 4.3366e-04\n",
      "Epoch 34/100\n",
      "137/137 [==============================] - 12s 86ms/step - loss: 5.0511e-04\n",
      "Epoch 35/100\n",
      "137/137 [==============================] - 12s 86ms/step - loss: 4.1657e-04\n",
      "Epoch 36/100\n",
      "137/137 [==============================] - 12s 85ms/step - loss: 3.6292e-04\n",
      "Epoch 37/100\n",
      "137/137 [==============================] - 12s 85ms/step - loss: 3.9615e-04\n",
      "Epoch 38/100\n",
      "137/137 [==============================] - 12s 86ms/step - loss: 3.7079e-04\n",
      "Epoch 39/100\n",
      "137/137 [==============================] - 12s 86ms/step - loss: 3.7327e-04\n",
      "Epoch 40/100\n",
      "137/137 [==============================] - 12s 86ms/step - loss: 3.1717e-04\n",
      "Epoch 41/100\n",
      "137/137 [==============================] - 12s 86ms/step - loss: 4.1994e-04\n",
      "Epoch 42/100\n",
      "137/137 [==============================] - 12s 86ms/step - loss: 3.7147e-04\n",
      "Epoch 43/100\n",
      "137/137 [==============================] - 12s 85ms/step - loss: 3.9209e-04\n",
      "Epoch 44/100\n",
      "137/137 [==============================] - 12s 87ms/step - loss: 4.2593e-04\n",
      "Epoch 45/100\n",
      "137/137 [==============================] - 12s 86ms/step - loss: 3.9792e-04\n",
      "Epoch 46/100\n",
      "137/137 [==============================] - 12s 86ms/step - loss: 4.0230e-04\n",
      "Epoch 47/100\n",
      "137/137 [==============================] - 12s 86ms/step - loss: 5.0485e-04\n",
      "Epoch 48/100\n",
      "137/137 [==============================] - 12s 86ms/step - loss: 3.4336e-04\n",
      "Epoch 49/100\n",
      "137/137 [==============================] - 12s 86ms/step - loss: 3.2521e-04\n",
      "Epoch 50/100\n",
      "137/137 [==============================] - 12s 86ms/step - loss: 3.4234e-04\n",
      "Epoch 51/100\n",
      "137/137 [==============================] - 12s 86ms/step - loss: 3.4804e-04\n",
      "Epoch 52/100\n",
      "137/137 [==============================] - 12s 86ms/step - loss: 3.4038e-04\n",
      "Epoch 53/100\n",
      "137/137 [==============================] - 12s 86ms/step - loss: 3.8142e-04\n",
      "Epoch 54/100\n",
      "137/137 [==============================] - 12s 86ms/step - loss: 3.4601e-04\n",
      "Epoch 55/100\n",
      "137/137 [==============================] - 12s 86ms/step - loss: 4.3392e-04\n",
      "Epoch 56/100\n",
      "137/137 [==============================] - 12s 89ms/step - loss: 3.2367e-04\n",
      "Epoch 57/100\n",
      "137/137 [==============================] - 12s 86ms/step - loss: 3.5800e-04\n",
      "Epoch 58/100\n",
      "137/137 [==============================] - 12s 87ms/step - loss: 3.7434e-04\n",
      "Epoch 59/100\n",
      "137/137 [==============================] - 12s 87ms/step - loss: 3.4174e-04\n",
      "Epoch 60/100\n",
      "137/137 [==============================] - 12s 86ms/step - loss: 3.4405e-04\n",
      "Epoch 61/100\n",
      "137/137 [==============================] - 12s 86ms/step - loss: 3.2068e-04\n",
      "Epoch 62/100\n",
      "137/137 [==============================] - 12s 86ms/step - loss: 3.4941e-04\n",
      "Epoch 63/100\n",
      "137/137 [==============================] - 12s 86ms/step - loss: 3.6137e-04\n",
      "Epoch 64/100\n",
      "137/137 [==============================] - 12s 86ms/step - loss: 3.7177e-04\n",
      "Epoch 65/100\n",
      "137/137 [==============================] - 12s 86ms/step - loss: 3.1527e-04\n",
      "Epoch 66/100\n",
      "137/137 [==============================] - 12s 86ms/step - loss: 3.6107e-04\n",
      "Epoch 67/100\n",
      "137/137 [==============================] - 12s 86ms/step - loss: 3.5172e-04\n",
      "Epoch 68/100\n",
      "137/137 [==============================] - 12s 86ms/step - loss: 3.0152e-04\n",
      "Epoch 69/100\n",
      "137/137 [==============================] - 12s 86ms/step - loss: 3.5259e-04\n",
      "Epoch 70/100\n",
      "137/137 [==============================] - 12s 86ms/step - loss: 3.3213e-04\n",
      "Epoch 71/100\n",
      "137/137 [==============================] - 12s 86ms/step - loss: 2.8684e-04\n",
      "Epoch 72/100\n",
      "137/137 [==============================] - 12s 86ms/step - loss: 3.4407e-04\n",
      "Epoch 73/100\n",
      "137/137 [==============================] - 12s 86ms/step - loss: 3.4349e-04\n",
      "Epoch 74/100\n",
      "137/137 [==============================] - 12s 86ms/step - loss: 3.1073e-04\n",
      "Epoch 75/100\n",
      "137/137 [==============================] - 12s 86ms/step - loss: 3.0908e-04\n",
      "Epoch 76/100\n",
      "137/137 [==============================] - 12s 86ms/step - loss: 3.6400e-04\n",
      "Epoch 77/100\n",
      "137/137 [==============================] - 12s 86ms/step - loss: 3.1241e-04\n",
      "Epoch 78/100\n",
      "137/137 [==============================] - 12s 86ms/step - loss: 3.2345e-04\n",
      "Epoch 79/100\n",
      "137/137 [==============================] - 12s 86ms/step - loss: 3.0013e-04\n",
      "Epoch 80/100\n",
      "137/137 [==============================] - 12s 86ms/step - loss: 3.4353e-04\n",
      "Epoch 81/100\n",
      "137/137 [==============================] - 12s 86ms/step - loss: 2.8599e-04\n",
      "Epoch 82/100\n",
      "137/137 [==============================] - 12s 86ms/step - loss: 2.7971e-04\n",
      "Epoch 83/100\n",
      "137/137 [==============================] - 12s 86ms/step - loss: 3.0854e-04\n",
      "Epoch 84/100\n",
      "137/137 [==============================] - 12s 87ms/step - loss: 2.6527e-04\n",
      "Epoch 85/100\n",
      "137/137 [==============================] - 12s 86ms/step - loss: 3.5277e-04\n",
      "Epoch 86/100\n",
      "137/137 [==============================] - 12s 86ms/step - loss: 2.8552e-04\n",
      "Epoch 87/100\n",
      "137/137 [==============================] - 12s 86ms/step - loss: 2.8086e-04\n",
      "Epoch 88/100\n",
      "137/137 [==============================] - 12s 86ms/step - loss: 3.3619e-04\n",
      "Epoch 89/100\n",
      "137/137 [==============================] - 12s 86ms/step - loss: 2.8299e-04\n",
      "Epoch 90/100\n",
      "137/137 [==============================] - 12s 86ms/step - loss: 3.5085e-04\n",
      "Epoch 91/100\n",
      "137/137 [==============================] - 12s 86ms/step - loss: 3.4345e-04\n",
      "Epoch 92/100\n",
      "137/137 [==============================] - 12s 86ms/step - loss: 2.9365e-04\n",
      "Epoch 93/100\n",
      "137/137 [==============================] - 12s 86ms/step - loss: 3.0708e-04\n",
      "Epoch 94/100\n",
      "137/137 [==============================] - 12s 86ms/step - loss: 2.5518e-04\n",
      "Epoch 95/100\n",
      "137/137 [==============================] - 12s 86ms/step - loss: 2.6113e-04\n",
      "Epoch 96/100\n",
      "137/137 [==============================] - 12s 86ms/step - loss: 2.5802e-04\n",
      "Epoch 97/100\n",
      "137/137 [==============================] - 12s 86ms/step - loss: 2.8765e-04\n",
      "Epoch 98/100\n",
      "137/137 [==============================] - 12s 86ms/step - loss: 2.9262e-04\n",
      "Epoch 99/100\n",
      "137/137 [==============================] - 12s 86ms/step - loss: 2.6485e-04\n",
      "Epoch 100/100\n",
      "137/137 [==============================] - 12s 86ms/step - loss: 2.5525e-04\n"
     ]
    },
    {
     "data": {
      "text/plain": [
       "<keras.src.callbacks.History at 0x15d2237d8d0>"
      ]
     },
     "execution_count": 113,
     "metadata": {},
     "output_type": "execute_result"
    }
   ],
   "source": [
    "rnn.fit(X_train,y_train, epochs= 100, batch_size =32)"
   ]
  },
  {
   "cell_type": "code",
   "execution_count": 114,
   "id": "dd0f2233",
   "metadata": {},
   "outputs": [],
   "source": [
    "# Test set\n",
    "data_test = pd.read_csv(\"Google-Test.csv\")\n",
    "real_stock_price = data_test.iloc[:, 1:2].values"
   ]
  },
  {
   "cell_type": "code",
   "execution_count": 115,
   "id": "5e11204b",
   "metadata": {},
   "outputs": [
    {
     "name": "stdout",
     "output_type": "stream",
     "text": [
      "WARNING:tensorflow:5 out of the last 6 calls to <function Model.make_predict_function.<locals>.predict_function at 0x0000015D32CC13A0> triggered tf.function retracing. Tracing is expensive and the excessive number of tracings could be due to (1) creating @tf.function repeatedly in a loop, (2) passing tensors with different shapes, (3) passing Python objects instead of tensors. For (1), please define your @tf.function outside of the loop. For (2), @tf.function has reduce_retracing=True option that can avoid unnecessary retracing. For (3), please refer to https://www.tensorflow.org/guide/function#controlling_retracing and https://www.tensorflow.org/api_docs/python/tf/function for  more details.\n",
      "1/1 [==============================] - 2s 2s/step\n"
     ]
    }
   ],
   "source": [
    "# Predicting the stock price\n",
    "data_total = pd.concat((data_train['Open'],data_test['Open']),axis=0)\n",
    "inputs = data_total[len(data_total) - len(data_test)-40:].values\n",
    "inputs = inputs.reshape(-1,1)\n",
    "inputs = sc.transform(inputs)\n",
    "X_test = []\n",
    "for i in range(40,58):\n",
    "    X_test.append(inputs[i-40:i,0])\n",
    "X_test =  np.array(X_test)\n",
    "X_test =  np.reshape(X_test,(X_test.shape[0],X_test.shape[1],1))\n",
    "predicted_stock_price = rnn.predict(X_test)\n",
    "predicted_stock_price = sc.inverse_transform(predicted_stock_price)"
   ]
  },
  {
   "cell_type": "code",
   "execution_count": 116,
   "id": "ba912752",
   "metadata": {},
   "outputs": [
    {
     "name": "stdout",
     "output_type": "stream",
     "text": [
      "[[2681.8574]\n",
      " [2695.4028]\n",
      " [2700.7864]\n",
      " [2707.872 ]\n",
      " [2699.2195]\n",
      " [2686.2964]\n",
      " [2654.904 ]\n",
      " [2652.784 ]\n",
      " [2657.5564]\n",
      " [2672.9563]\n",
      " [2668.6082]\n",
      " [2647.3064]\n",
      " [2645.3113]\n",
      " [2659.3782]\n",
      " [2674.609 ]\n",
      " [2697.4028]\n",
      " [2712.5815]\n",
      " [2732.9377]]\n"
     ]
    }
   ],
   "source": [
    "print(predicted_stock_price)"
   ]
  },
  {
   "cell_type": "code",
   "execution_count": 117,
   "id": "1390cc90",
   "metadata": {},
   "outputs": [
    {
     "data": {
      "image/png": "[encoded data removed]",
      "text/plain": [
       "<Figure size 640x480 with 1 Axes>"
      ]
     },
     "metadata": {},
     "output_type": "display_data"
    }
   ],
   "source": [
    "# Visualizing the result\n",
    "plt.plot(real_stock_price, color = 'red' , label = \"Real Google Stock Price\")\n",
    "plt.plot(predicted_stock_price, color = 'green', label = \"Predicted Google Stock Price\")\n",
    "plt.xlabel('Time')\n",
    "plt.ylabel('Google Stock Price')\n",
    "plt.legend()\n",
    "plt.show()"
   ]
  },
  {
   "cell_type": "code",
   "execution_count": null,
   "id": "47169475",
   "metadata": {},
   "outputs": [],
   "source": []
  }
 ],
 "metadata": {
  "kernelspec": {
   "display_name": "Python 3 (ipykernel)",
   "language": "python",
   "name": "python3"
  },
  "language_info": {
   "codemirror_mode": {
    "name": "ipython",
    "version": 3
   },
   "file_extension": ".py",
   "mimetype": "text/x-python",
   "name": "python",
   "nbconvert_exporter": "python",
   "pygments_lexer": "ipython3",
   "version": "3.11.5"
  }
 },
 "nbformat": 4,
 "nbformat_minor": 5
}
